{
 "cells": [
  {
   "cell_type": "markdown",
   "id": "57827552",
   "metadata": {},
   "source": [
    "Дана функция f(x) = (sin(x)/2 + cos(x)/2)^2 * sin(x)\n",
    "\n",
    "1.Определить корни"
   ]
  },
  {
   "cell_type": "code",
   "execution_count": 1,
   "id": "f28f3d16",
   "metadata": {},
   "outputs": [
    {
     "name": "stdout",
     "output_type": "stream",
     "text": [
      "[-pi/4, 0, 3*pi/4, pi]\n"
     ]
    }
   ],
   "source": [
    "from sympy import *\n",
    "x = Symbol('x')\n",
    "y = (sin(x)/2 + cos(x)/2)**2 * sin(x)\n",
    "list_y = solve(y, x)\n",
    "list_y = sorted(list_y)\n",
    "print(list_y)"
   ]
  },
  {
   "cell_type": "markdown",
   "id": "f6899013",
   "metadata": {},
   "source": [
    "2.Найти интервалы, на которых функция возрастает\n",
    "\n",
    "3.Найти интервалы, на которых функция убывает"
   ]
  },
  {
   "cell_type": "code",
   "execution_count": 6,
   "id": "89a4a473",
   "metadata": {},
   "outputs": [
    {
     "name": "stdout",
     "output_type": "stream",
     "text": [
      "1. Функция возрастает на промежутке -2*atan(-3/2 + sqrt(6)*sqrt(5 - sqrt(17))/2 + sqrt(17)/2) : -pi/4.\n",
      "2. Функция убывает на промежутке -pi/4 : 2*atan(-sqrt(6)*sqrt(sqrt(17) + 5)/2 + 3/2 + sqrt(17)/2).\n",
      "3. Функция возрастает на промежутке 2*atan(-sqrt(6)*sqrt(sqrt(17) + 5)/2 + 3/2 + sqrt(17)/2) : 2*atan(-sqrt(17)/2 + sqrt(6)*sqrt(5 - sqrt(17))/2 + 3/2).\n",
      "4. Функция убывает на промежутке 2*atan(-sqrt(17)/2 + sqrt(6)*sqrt(5 - sqrt(17))/2 + 3/2) : 3*pi/4.\n",
      "5. Функция возрастает на промежутке 3*pi/4 : 2*atan(3/2 + sqrt(17)/2 + sqrt(6)*sqrt(sqrt(17) + 5)/2).\n",
      "6. Функция убывает на промежутке 2*atan(3/2 + sqrt(17)/2 + sqrt(6)*sqrt(sqrt(17) + 5)/2) : -2*atan(-3/2 + sqrt(6)*sqrt(5 - sqrt(17))/2 + sqrt(17)/2) + 2*pi.\n"
     ]
    }
   ],
   "source": [
    "x = Symbol('x')\n",
    "y = (sin(x)/2 + cos(x)/2)**2 * sin(x)\n",
    "dif = diff(y,x)\n",
    "list_dif = solve(dif, x)\n",
    "list_dif = sorted(list_dif)\n",
    "#Находим периоды:\n",
    "period = pi\n",
    "while True:\n",
    "    a_1 = dif.subs(x, 0)\n",
    "    a_2 = dif.subs(x, 0+period)\n",
    "    if a_1 == a_2:\n",
    "        break\n",
    "    else:\n",
    "        period+=pi        \n",
    "point = list_dif[0] + t\n",
    "list_diff_1 = list_dif[:]\n",
    "list_diff_1.append(point)\n",
    "list_diff_1 = sorted(list_diff_1)\n",
    "# Находим интервалы, на которых функция возврастает или убывает\n",
    "for i in range(1, len(list_diff_1)):\n",
    "    a_1 = y.subs(x,list_diff_1[i-1] + 0.000001)\n",
    "    a_2 = y.subs(x,list_diff_1[i] - 0.000001)\n",
    "    if a_1 < a_2:\n",
    "        print(f'{i}. Функция возрастает на промежутке {list_diff_1[i-1]} : {list_diff_1[i]}.')\n",
    "    else:\n",
    "        print(f'{i}. Функция убывает на промежутке {list_diff_1[i-1]} : {list_diff_1[i]}.')"
   ]
  },
  {
   "cell_type": "markdown",
   "id": "429877ac",
   "metadata": {},
   "source": [
    "4.Построить график"
   ]
  },
  {
   "cell_type": "code",
   "execution_count": 7,
   "id": "8e0f89af",
   "metadata": {},
   "outputs": [
    {
     "data": {
      "image/png": "[encoded data removed]",
      "text/plain": [
       "<Figure size 432x288 with 1 Axes>"
      ]
     },
     "metadata": {
      "needs_background": "light"
     },
     "output_type": "display_data"
    },
    {
     "name": "stdout",
     "output_type": "stream",
     "text": [
      "Plot object containing:\n",
      "[0]: cartesian line: (sin(x)/2 + cos(x)/2)**2*sin(x) for x over (-10.0, 10.0)\n"
     ]
    }
   ],
   "source": [
    "print(plot(y))"
   ]
  },
  {
   "cell_type": "markdown",
   "id": "015ce5db",
   "metadata": {},
   "source": [
    "5.Вычислить вершину\n",
    "\n",
    "Определить промежутки, на котором f > 0\n",
    "\n",
    "Определить промежутки, на котором f < 0"
   ]
  },
  {
   "cell_type": "code",
   "execution_count": 9,
   "id": "e8498189",
   "metadata": {},
   "outputs": [
    {
     "name": "stdout",
     "output_type": "stream",
     "text": [
      "Вершина функции: x = -2*atan(-3/2 + sqrt(6)*sqrt(5 - sqrt(17))/2 + sqrt(17)/2), y = -(-sin(2*atan(-3/2 + sqrt(6)*sqrt(5 - sqrt(17))/2 + sqrt(17)/2))/2 + cos(2*atan(-3/2 + sqrt(6)*sqrt(5 - sqrt(17))/2 + sqrt(17)/2))/2)**2*sin(2*atan(-3/2 + sqrt(6)*sqrt(5 - sqrt(17))/2 + sqrt(17)/2))\n",
      "Вершина функции: x = -pi/4, y = 0\n",
      "Вершина функции: x = 2*atan(-sqrt(6)*sqrt(sqrt(17) + 5)/2 + 3/2 + sqrt(17)/2), y = (sin(2*atan(-sqrt(6)*sqrt(sqrt(17) + 5)/2 + 3/2 + sqrt(17)/2))/2 + cos(2*atan(-sqrt(6)*sqrt(sqrt(17) + 5)/2 + 3/2 + sqrt(17)/2))/2)**2*sin(2*atan(-sqrt(6)*sqrt(sqrt(17) + 5)/2 + 3/2 + sqrt(17)/2))\n",
      "Вершина функции: x = 2*atan(-sqrt(17)/2 + sqrt(6)*sqrt(5 - sqrt(17))/2 + 3/2), y = (cos(2*atan(-sqrt(17)/2 + sqrt(6)*sqrt(5 - sqrt(17))/2 + 3/2))/2 + sin(2*atan(-sqrt(17)/2 + sqrt(6)*sqrt(5 - sqrt(17))/2 + 3/2))/2)**2*sin(2*atan(-sqrt(17)/2 + sqrt(6)*sqrt(5 - sqrt(17))/2 + 3/2))\n",
      "Вершина функции: x = 3*pi/4, y = 0\n",
      "Вершина функции: x = 2*atan(3/2 + sqrt(17)/2 + sqrt(6)*sqrt(sqrt(17) + 5)/2), y = (cos(2*atan(3/2 + sqrt(17)/2 + sqrt(6)*sqrt(sqrt(17) + 5)/2))/2 + sin(2*atan(3/2 + sqrt(17)/2 + sqrt(6)*sqrt(sqrt(17) + 5)/2))/2)**2*sin(2*atan(3/2 + sqrt(17)/2 + sqrt(6)*sqrt(sqrt(17) + 5)/2))\n"
     ]
    }
   ],
   "source": [
    "for diff in list_dif:\n",
    "    point = y.subs(x, diff)\n",
    "    print(f'Вершина функции {}: x = {diff}, y = {point}')"
   ]
  },
  {
   "cell_type": "code",
   "execution_count": 13,
   "id": "b3059eb4",
   "metadata": {},
   "outputs": [
    {
     "name": "stdout",
     "output_type": "stream",
     "text": [
      "1. Функция на промежутке -pi/4 - 0 < 0.\n",
      "2. Функция на промежутке 0 - 3*pi/4 > 0.\n",
      "3. Функция на промежутке 3*pi/4 - pi > 0.\n",
      "4. Функция на промежутке pi - 7*pi/4 < 0.\n"
     ]
    }
   ],
   "source": [
    "period = pi\n",
    "while True:\n",
    "    a_1 = y.subs(x, 1)\n",
    "    a_2 = y.subs(x, 1+period)\n",
    "    if a_1 == a_2:\n",
    "        break\n",
    "    else:\n",
    "        period += pi        \n",
    "point_plus = list_y[0] + period\n",
    "list_zero = list_y[:]\n",
    "list_zero.append(point_plus)\n",
    "for i in range(1, len(lst_zero)):\n",
    "    point = list_zero[i-1]\n",
    "    if y.subs(x, point + 0.0000001) > 0:\n",
    "        print(f'{i}. Функция на промежутке {lst_zero[i-1]} - {lst_zero[i]} > 0.')\n",
    "    else:\n",
    "        print(f'{i}. Функция на промежутке {lst_zero[i-1]} - {lst_zero[i]} < 0.')"
   ]
  },
  {
   "cell_type": "code",
   "execution_count": null,
   "id": "a068a090",
   "metadata": {},
   "outputs": [],
   "source": []
  }
 ],
 "metadata": {
  "kernelspec": {
   "display_name": "Python 3 (ipykernel)",
   "language": "python",
   "name": "python3"
  },
  "language_info": {
   "codemirror_mode": {
    "name": "ipython",
    "version": 3
   },
   "file_extension": ".py",
   "mimetype": "text/x-python",
   "name": "python",
   "nbconvert_exporter": "python",
   "pygments_lexer": "ipython3",
   "version": "3.9.12"
  }
 },
 "nbformat": 4,
 "nbformat_minor": 5
}
